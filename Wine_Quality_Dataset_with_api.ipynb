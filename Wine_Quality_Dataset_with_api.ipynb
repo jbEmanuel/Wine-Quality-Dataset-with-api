{
  "nbformat": 4,
  "nbformat_minor": 0,
  "metadata": {
    "colab": {
      "provenance": [],
      "authorship_tag": "ABX9TyNE27+1uBH/MiAOLHbktMfc",
      "include_colab_link": true
    },
    "kernelspec": {
      "name": "python3",
      "display_name": "Python 3"
    },
    "language_info": {
      "name": "python"
    }
  },
  "cells": [
    {
      "cell_type": "markdown",
      "metadata": {
        "id": "view-in-github",
        "colab_type": "text"
      },
      "source": [
        "<a href=\"https://colab.research.google.com/github/jbEmanuel/Wine-Quality-Dataset-with-api/blob/main/Wine_Quality_Dataset_with_api.ipynb\" target=\"_parent\"><img src=\"https://colab.research.google.com/assets/colab-badge.svg\" alt=\"Open In Colab\"/></a>"
      ]
    },
    {
      "cell_type": "code",
      "source": [
        "!pip install fastapi nest-asyncio pyngrok uvicorn"
      ],
      "metadata": {
        "colab": {
          "base_uri": "https://localhost:8080/"
        },
        "id": "y0Lg_cOH8Ul1",
        "outputId": "4671f141-d1e1-4d9d-c3d6-f8e9e51c2cff"
      },
      "execution_count": 1,
      "outputs": [
        {
          "output_type": "stream",
          "name": "stdout",
          "text": [
            "Looking in indexes: https://pypi.org/simple, https://us-python.pkg.dev/colab-wheels/public/simple/\n",
            "Collecting fastapi\n",
            "  Downloading fastapi-0.89.1-py3-none-any.whl (55 kB)\n",
            "\u001b[2K     \u001b[90m━━━━━━━━━━━━━━━━━━━━━━━━━━━━━━━━━━━━━━━━\u001b[0m \u001b[32m55.8/55.8 KB\u001b[0m \u001b[31m2.3 MB/s\u001b[0m eta \u001b[36m0:00:00\u001b[0m\n",
            "\u001b[?25hCollecting nest-asyncio\n",
            "  Downloading nest_asyncio-1.5.6-py3-none-any.whl (5.2 kB)\n",
            "Collecting pyngrok\n",
            "  Downloading pyngrok-5.2.1.tar.gz (761 kB)\n",
            "\u001b[2K     \u001b[90m━━━━━━━━━━━━━━━━━━━━━━━━━━━━━━━━━━━━━━\u001b[0m \u001b[32m761.3/761.3 KB\u001b[0m \u001b[31m21.2 MB/s\u001b[0m eta \u001b[36m0:00:00\u001b[0m\n",
            "\u001b[?25h  Preparing metadata (setup.py) ... \u001b[?25l\u001b[?25hdone\n",
            "Collecting uvicorn\n",
            "  Downloading uvicorn-0.20.0-py3-none-any.whl (56 kB)\n",
            "\u001b[2K     \u001b[90m━━━━━━━━━━━━━━━━━━━━━━━━━━━━━━━━━━━━━━━━\u001b[0m \u001b[32m56.9/56.9 KB\u001b[0m \u001b[31m3.1 MB/s\u001b[0m eta \u001b[36m0:00:00\u001b[0m\n",
            "\u001b[?25hCollecting starlette==0.22.0\n",
            "  Downloading starlette-0.22.0-py3-none-any.whl (64 kB)\n",
            "\u001b[2K     \u001b[90m━━━━━━━━━━━━━━━━━━━━━━━━━━━━━━━━━━━━━━━━\u001b[0m \u001b[32m64.3/64.3 KB\u001b[0m \u001b[31m3.6 MB/s\u001b[0m eta \u001b[36m0:00:00\u001b[0m\n",
            "\u001b[?25hRequirement already satisfied: pydantic!=1.7,!=1.7.1,!=1.7.2,!=1.7.3,!=1.8,!=1.8.1,<2.0.0,>=1.6.2 in /usr/local/lib/python3.8/dist-packages (from fastapi) (1.10.4)\n",
            "Requirement already satisfied: typing-extensions>=3.10.0 in /usr/local/lib/python3.8/dist-packages (from starlette==0.22.0->fastapi) (4.4.0)\n",
            "Collecting anyio<5,>=3.4.0\n",
            "  Downloading anyio-3.6.2-py3-none-any.whl (80 kB)\n",
            "\u001b[2K     \u001b[90m━━━━━━━━━━━━━━━━━━━━━━━━━━━━━━━━━━━━━━━━\u001b[0m \u001b[32m80.6/80.6 KB\u001b[0m \u001b[31m4.3 MB/s\u001b[0m eta \u001b[36m0:00:00\u001b[0m\n",
            "\u001b[?25hRequirement already satisfied: PyYAML in /usr/local/lib/python3.8/dist-packages (from pyngrok) (6.0)\n",
            "Collecting h11>=0.8\n",
            "  Downloading h11-0.14.0-py3-none-any.whl (58 kB)\n",
            "\u001b[2K     \u001b[90m━━━━━━━━━━━━━━━━━━━━━━━━━━━━━━━━━━━━━━━━\u001b[0m \u001b[32m58.3/58.3 KB\u001b[0m \u001b[31m3.6 MB/s\u001b[0m eta \u001b[36m0:00:00\u001b[0m\n",
            "\u001b[?25hRequirement already satisfied: click>=7.0 in /usr/local/lib/python3.8/dist-packages (from uvicorn) (7.1.2)\n",
            "Collecting sniffio>=1.1\n",
            "  Downloading sniffio-1.3.0-py3-none-any.whl (10 kB)\n",
            "Requirement already satisfied: idna>=2.8 in /usr/local/lib/python3.8/dist-packages (from anyio<5,>=3.4.0->starlette==0.22.0->fastapi) (2.10)\n",
            "Building wheels for collected packages: pyngrok\n",
            "  Building wheel for pyngrok (setup.py) ... \u001b[?25l\u001b[?25hdone\n",
            "  Created wheel for pyngrok: filename=pyngrok-5.2.1-py3-none-any.whl size=19792 sha256=33ab7fd6c8dd3542631a4fa4b67f748716fc860b687688595581fcbb99818308\n",
            "  Stored in directory: /root/.cache/pip/wheels/5d/f2/70/526da675d32f17577ec47ac4c663084efe39d47c826b6c3bb1\n",
            "Successfully built pyngrok\n",
            "Installing collected packages: sniffio, pyngrok, nest-asyncio, h11, uvicorn, anyio, starlette, fastapi\n",
            "Successfully installed anyio-3.6.2 fastapi-0.89.1 h11-0.14.0 nest-asyncio-1.5.6 pyngrok-5.2.1 sniffio-1.3.0 starlette-0.22.0 uvicorn-0.20.0\n"
          ]
        }
      ]
    },
    {
      "cell_type": "code",
      "execution_count": 3,
      "metadata": {
        "id": "cJyaZZ1b3V_C"
      },
      "outputs": [],
      "source": [
        "from sklearn import model_selection, datasets\n",
        "from sklearn.tree import DecisionTreeClassifier\n",
        "from sklearn.metrics import plot_roc_curve, classification_report\n",
        "import pandas as pd\n",
        "import numpy as np\n",
        "\n",
        "import joblib\n",
        "import pickle\n",
        "\n",
        "from fastapi import FastAPI\n",
        "from pydantic import BaseModel\n",
        "import nest_asyncio\n",
        "from pyngrok import ngrok\n",
        "import uvicorn"
      ]
    },
    {
      "cell_type": "code",
      "source": [
        "dataset = datasets.load_wine()"
      ],
      "metadata": {
        "id": "yYYDNJoS3nqD"
      },
      "execution_count": 4,
      "outputs": []
    },
    {
      "cell_type": "code",
      "source": [
        "dataset.keys()"
      ],
      "metadata": {
        "colab": {
          "base_uri": "https://localhost:8080/"
        },
        "id": "Bwe_Mhxw9vy2",
        "outputId": "360f92c0-f531-4a13-8c5a-815fe8b9a72d"
      },
      "execution_count": 5,
      "outputs": [
        {
          "output_type": "execute_result",
          "data": {
            "text/plain": [
              "dict_keys(['data', 'target', 'frame', 'target_names', 'DESCR', 'feature_names'])"
            ]
          },
          "metadata": {},
          "execution_count": 5
        }
      ]
    },
    {
      "cell_type": "code",
      "source": [
        "dataset.target_names"
      ],
      "metadata": {
        "colab": {
          "base_uri": "https://localhost:8080/"
        },
        "id": "CSCm5ExXBpBj",
        "outputId": "86bd4a9e-6c3a-404f-b311-c7651f1b1939"
      },
      "execution_count": 6,
      "outputs": [
        {
          "output_type": "execute_result",
          "data": {
            "text/plain": [
              "array(['class_0', 'class_1', 'class_2'], dtype='<U7')"
            ]
          },
          "metadata": {},
          "execution_count": 6
        }
      ]
    },
    {
      "cell_type": "code",
      "source": [
        "dataset.feature_names"
      ],
      "metadata": {
        "colab": {
          "base_uri": "https://localhost:8080/"
        },
        "id": "uHet_g2kCzU7",
        "outputId": "866e64a4-c344-454c-8164-0f676767d5ca"
      },
      "execution_count": 7,
      "outputs": [
        {
          "output_type": "execute_result",
          "data": {
            "text/plain": [
              "['alcohol',\n",
              " 'malic_acid',\n",
              " 'ash',\n",
              " 'alcalinity_of_ash',\n",
              " 'magnesium',\n",
              " 'total_phenols',\n",
              " 'flavanoids',\n",
              " 'nonflavanoid_phenols',\n",
              " 'proanthocyanins',\n",
              " 'color_intensity',\n",
              " 'hue',\n",
              " 'od280/od315_of_diluted_wines',\n",
              " 'proline']"
            ]
          },
          "metadata": {},
          "execution_count": 7
        }
      ]
    },
    {
      "cell_type": "code",
      "source": [
        "dataset.DESCR"
      ],
      "metadata": {
        "colab": {
          "base_uri": "https://localhost:8080/",
          "height": 142
        },
        "id": "lOjirPpF-C85",
        "outputId": "48ef4324-fe4c-4342-b79f-28e86cd5e50e"
      },
      "execution_count": 8,
      "outputs": [
        {
          "output_type": "execute_result",
          "data": {
            "text/plain": [
              "'.. _wine_dataset:\\n\\nWine recognition dataset\\n------------------------\\n\\n**Data Set Characteristics:**\\n\\n    :Number of Instances: 178 (50 in each of three classes)\\n    :Number of Attributes: 13 numeric, predictive attributes and the class\\n    :Attribute Information:\\n \\t\\t- Alcohol\\n \\t\\t- Malic acid\\n \\t\\t- Ash\\n\\t\\t- Alcalinity of ash  \\n \\t\\t- Magnesium\\n\\t\\t- Total phenols\\n \\t\\t- Flavanoids\\n \\t\\t- Nonflavanoid phenols\\n \\t\\t- Proanthocyanins\\n\\t\\t- Color intensity\\n \\t\\t- Hue\\n \\t\\t- OD280/OD315 of diluted wines\\n \\t\\t- Proline\\n\\n    - class:\\n            - class_0\\n            - class_1\\n            - class_2\\n\\t\\t\\n    :Summary Statistics:\\n    \\n    ============================= ==== ===== ======= =====\\n                                   Min   Max   Mean     SD\\n    ============================= ==== ===== ======= =====\\n    Alcohol:                      11.0  14.8    13.0   0.8\\n    Malic Acid:                   0.74  5.80    2.34  1.12\\n    Ash:                          1.36  3.23    2.36  0.27\\n    Alcalinity of Ash:            10.6  30.0    19.5   3.3\\n    Magnesium:                    70.0 162.0    99.7  14.3\\n    Total Phenols:                0.98  3.88    2.29  0.63\\n    Flavanoids:                   0.34  5.08    2.03  1.00\\n    Nonflavanoid Phenols:         0.13  0.66    0.36  0.12\\n    Proanthocyanins:              0.41  3.58    1.59  0.57\\n    Colour Intensity:              1.3  13.0     5.1   2.3\\n    Hue:                          0.48  1.71    0.96  0.23\\n    OD280/OD315 of diluted wines: 1.27  4.00    2.61  0.71\\n    Proline:                       278  1680     746   315\\n    ============================= ==== ===== ======= =====\\n\\n    :Missing Attribute Values: None\\n    :Class Distribution: class_0 (59), class_1 (71), class_2 (48)\\n    :Creator: R.A. Fisher\\n    :Donor: Michael Marshall (MARSHALL%PLU@io.arc.nasa.gov)\\n    :Date: July, 1988\\n\\nThis is a copy of UCI ML Wine recognition datasets.\\nhttps://archive.ics.uci.edu/ml/machine-learning-databases/wine/wine.data\\n\\nThe data is the results of a chemical analysis of wines grown in the same\\nregion in Italy by three different cultivators. There are thirteen different\\nmeasurements taken for different constituents found in the three types of\\nwine.\\n\\nOriginal Owners: \\n\\nForina, M. et al, PARVUS - \\nAn Extendible Package for Data Exploration, Classification and Correlation. \\nInstitute of Pharmaceutical and Food Analysis and Technologies,\\nVia Brigata Salerno, 16147 Genoa, Italy.\\n\\nCitation:\\n\\nLichman, M. (2013). UCI Machine Learning Repository\\n[https://archive.ics.uci.edu/ml]. Irvine, CA: University of California,\\nSchool of Information and Computer Science. \\n\\n.. topic:: References\\n\\n  (1) S. Aeberhard, D. Coomans and O. de Vel, \\n  Comparison of Classifiers in High Dimensional Settings, \\n  Tech. Rep. no. 92-02, (1992), Dept. of Computer Science and Dept. of  \\n  Mathematics and Statistics, James Cook University of North Queensland. \\n  (Also submitted to Technometrics). \\n\\n  The data was used with many others for comparing various \\n  classifiers. The classes are separable, though only RDA \\n  has achieved 100% correct classification. \\n  (RDA : 100%, QDA 99.4%, LDA 98.9%, 1NN 96.1% (z-transformed data)) \\n  (All results using the leave-one-out technique) \\n\\n  (2) S. Aeberhard, D. Coomans and O. de Vel, \\n  \"THE CLASSIFICATION PERFORMANCE OF RDA\" \\n  Tech. Rep. no. 92-01, (1992), Dept. of Computer Science and Dept. of \\n  Mathematics and Statistics, James Cook University of North Queensland. \\n  (Also submitted to Journal of Chemometrics).\\n'"
            ],
            "application/vnd.google.colaboratory.intrinsic+json": {
              "type": "string"
            }
          },
          "metadata": {},
          "execution_count": 8
        }
      ]
    },
    {
      "cell_type": "code",
      "source": [
        "X = pd.DataFrame(dataset.data, columns=dataset.feature_names)\n",
        "X.head(10)"
      ],
      "metadata": {
        "colab": {
          "base_uri": "https://localhost:8080/",
          "height": 427
        },
        "id": "P8IBPMK298bC",
        "outputId": "c06bdb6e-d84e-4514-a4f1-14411117fbdc"
      },
      "execution_count": 9,
      "outputs": [
        {
          "output_type": "execute_result",
          "data": {
            "text/plain": [
              "   alcohol  malic_acid   ash  alcalinity_of_ash  magnesium  total_phenols  \\\n",
              "0    14.23        1.71  2.43               15.6      127.0           2.80   \n",
              "1    13.20        1.78  2.14               11.2      100.0           2.65   \n",
              "2    13.16        2.36  2.67               18.6      101.0           2.80   \n",
              "3    14.37        1.95  2.50               16.8      113.0           3.85   \n",
              "4    13.24        2.59  2.87               21.0      118.0           2.80   \n",
              "5    14.20        1.76  2.45               15.2      112.0           3.27   \n",
              "6    14.39        1.87  2.45               14.6       96.0           2.50   \n",
              "7    14.06        2.15  2.61               17.6      121.0           2.60   \n",
              "8    14.83        1.64  2.17               14.0       97.0           2.80   \n",
              "9    13.86        1.35  2.27               16.0       98.0           2.98   \n",
              "\n",
              "   flavanoids  nonflavanoid_phenols  proanthocyanins  color_intensity   hue  \\\n",
              "0        3.06                  0.28             2.29             5.64  1.04   \n",
              "1        2.76                  0.26             1.28             4.38  1.05   \n",
              "2        3.24                  0.30             2.81             5.68  1.03   \n",
              "3        3.49                  0.24             2.18             7.80  0.86   \n",
              "4        2.69                  0.39             1.82             4.32  1.04   \n",
              "5        3.39                  0.34             1.97             6.75  1.05   \n",
              "6        2.52                  0.30             1.98             5.25  1.02   \n",
              "7        2.51                  0.31             1.25             5.05  1.06   \n",
              "8        2.98                  0.29             1.98             5.20  1.08   \n",
              "9        3.15                  0.22             1.85             7.22  1.01   \n",
              "\n",
              "   od280/od315_of_diluted_wines  proline  \n",
              "0                          3.92   1065.0  \n",
              "1                          3.40   1050.0  \n",
              "2                          3.17   1185.0  \n",
              "3                          3.45   1480.0  \n",
              "4                          2.93    735.0  \n",
              "5                          2.85   1450.0  \n",
              "6                          3.58   1290.0  \n",
              "7                          3.58   1295.0  \n",
              "8                          2.85   1045.0  \n",
              "9                          3.55   1045.0  "
            ],
            "text/html": [
              "\n",
              "  <div id=\"df-1cbbbd43-c8e8-4dca-8f0d-5b87cd46cb21\">\n",
              "    <div class=\"colab-df-container\">\n",
              "      <div>\n",
              "<style scoped>\n",
              "    .dataframe tbody tr th:only-of-type {\n",
              "        vertical-align: middle;\n",
              "    }\n",
              "\n",
              "    .dataframe tbody tr th {\n",
              "        vertical-align: top;\n",
              "    }\n",
              "\n",
              "    .dataframe thead th {\n",
              "        text-align: right;\n",
              "    }\n",
              "</style>\n",
              "<table border=\"1\" class=\"dataframe\">\n",
              "  <thead>\n",
              "    <tr style=\"text-align: right;\">\n",
              "      <th></th>\n",
              "      <th>alcohol</th>\n",
              "      <th>malic_acid</th>\n",
              "      <th>ash</th>\n",
              "      <th>alcalinity_of_ash</th>\n",
              "      <th>magnesium</th>\n",
              "      <th>total_phenols</th>\n",
              "      <th>flavanoids</th>\n",
              "      <th>nonflavanoid_phenols</th>\n",
              "      <th>proanthocyanins</th>\n",
              "      <th>color_intensity</th>\n",
              "      <th>hue</th>\n",
              "      <th>od280/od315_of_diluted_wines</th>\n",
              "      <th>proline</th>\n",
              "    </tr>\n",
              "  </thead>\n",
              "  <tbody>\n",
              "    <tr>\n",
              "      <th>0</th>\n",
              "      <td>14.23</td>\n",
              "      <td>1.71</td>\n",
              "      <td>2.43</td>\n",
              "      <td>15.6</td>\n",
              "      <td>127.0</td>\n",
              "      <td>2.80</td>\n",
              "      <td>3.06</td>\n",
              "      <td>0.28</td>\n",
              "      <td>2.29</td>\n",
              "      <td>5.64</td>\n",
              "      <td>1.04</td>\n",
              "      <td>3.92</td>\n",
              "      <td>1065.0</td>\n",
              "    </tr>\n",
              "    <tr>\n",
              "      <th>1</th>\n",
              "      <td>13.20</td>\n",
              "      <td>1.78</td>\n",
              "      <td>2.14</td>\n",
              "      <td>11.2</td>\n",
              "      <td>100.0</td>\n",
              "      <td>2.65</td>\n",
              "      <td>2.76</td>\n",
              "      <td>0.26</td>\n",
              "      <td>1.28</td>\n",
              "      <td>4.38</td>\n",
              "      <td>1.05</td>\n",
              "      <td>3.40</td>\n",
              "      <td>1050.0</td>\n",
              "    </tr>\n",
              "    <tr>\n",
              "      <th>2</th>\n",
              "      <td>13.16</td>\n",
              "      <td>2.36</td>\n",
              "      <td>2.67</td>\n",
              "      <td>18.6</td>\n",
              "      <td>101.0</td>\n",
              "      <td>2.80</td>\n",
              "      <td>3.24</td>\n",
              "      <td>0.30</td>\n",
              "      <td>2.81</td>\n",
              "      <td>5.68</td>\n",
              "      <td>1.03</td>\n",
              "      <td>3.17</td>\n",
              "      <td>1185.0</td>\n",
              "    </tr>\n",
              "    <tr>\n",
              "      <th>3</th>\n",
              "      <td>14.37</td>\n",
              "      <td>1.95</td>\n",
              "      <td>2.50</td>\n",
              "      <td>16.8</td>\n",
              "      <td>113.0</td>\n",
              "      <td>3.85</td>\n",
              "      <td>3.49</td>\n",
              "      <td>0.24</td>\n",
              "      <td>2.18</td>\n",
              "      <td>7.80</td>\n",
              "      <td>0.86</td>\n",
              "      <td>3.45</td>\n",
              "      <td>1480.0</td>\n",
              "    </tr>\n",
              "    <tr>\n",
              "      <th>4</th>\n",
              "      <td>13.24</td>\n",
              "      <td>2.59</td>\n",
              "      <td>2.87</td>\n",
              "      <td>21.0</td>\n",
              "      <td>118.0</td>\n",
              "      <td>2.80</td>\n",
              "      <td>2.69</td>\n",
              "      <td>0.39</td>\n",
              "      <td>1.82</td>\n",
              "      <td>4.32</td>\n",
              "      <td>1.04</td>\n",
              "      <td>2.93</td>\n",
              "      <td>735.0</td>\n",
              "    </tr>\n",
              "    <tr>\n",
              "      <th>5</th>\n",
              "      <td>14.20</td>\n",
              "      <td>1.76</td>\n",
              "      <td>2.45</td>\n",
              "      <td>15.2</td>\n",
              "      <td>112.0</td>\n",
              "      <td>3.27</td>\n",
              "      <td>3.39</td>\n",
              "      <td>0.34</td>\n",
              "      <td>1.97</td>\n",
              "      <td>6.75</td>\n",
              "      <td>1.05</td>\n",
              "      <td>2.85</td>\n",
              "      <td>1450.0</td>\n",
              "    </tr>\n",
              "    <tr>\n",
              "      <th>6</th>\n",
              "      <td>14.39</td>\n",
              "      <td>1.87</td>\n",
              "      <td>2.45</td>\n",
              "      <td>14.6</td>\n",
              "      <td>96.0</td>\n",
              "      <td>2.50</td>\n",
              "      <td>2.52</td>\n",
              "      <td>0.30</td>\n",
              "      <td>1.98</td>\n",
              "      <td>5.25</td>\n",
              "      <td>1.02</td>\n",
              "      <td>3.58</td>\n",
              "      <td>1290.0</td>\n",
              "    </tr>\n",
              "    <tr>\n",
              "      <th>7</th>\n",
              "      <td>14.06</td>\n",
              "      <td>2.15</td>\n",
              "      <td>2.61</td>\n",
              "      <td>17.6</td>\n",
              "      <td>121.0</td>\n",
              "      <td>2.60</td>\n",
              "      <td>2.51</td>\n",
              "      <td>0.31</td>\n",
              "      <td>1.25</td>\n",
              "      <td>5.05</td>\n",
              "      <td>1.06</td>\n",
              "      <td>3.58</td>\n",
              "      <td>1295.0</td>\n",
              "    </tr>\n",
              "    <tr>\n",
              "      <th>8</th>\n",
              "      <td>14.83</td>\n",
              "      <td>1.64</td>\n",
              "      <td>2.17</td>\n",
              "      <td>14.0</td>\n",
              "      <td>97.0</td>\n",
              "      <td>2.80</td>\n",
              "      <td>2.98</td>\n",
              "      <td>0.29</td>\n",
              "      <td>1.98</td>\n",
              "      <td>5.20</td>\n",
              "      <td>1.08</td>\n",
              "      <td>2.85</td>\n",
              "      <td>1045.0</td>\n",
              "    </tr>\n",
              "    <tr>\n",
              "      <th>9</th>\n",
              "      <td>13.86</td>\n",
              "      <td>1.35</td>\n",
              "      <td>2.27</td>\n",
              "      <td>16.0</td>\n",
              "      <td>98.0</td>\n",
              "      <td>2.98</td>\n",
              "      <td>3.15</td>\n",
              "      <td>0.22</td>\n",
              "      <td>1.85</td>\n",
              "      <td>7.22</td>\n",
              "      <td>1.01</td>\n",
              "      <td>3.55</td>\n",
              "      <td>1045.0</td>\n",
              "    </tr>\n",
              "  </tbody>\n",
              "</table>\n",
              "</div>\n",
              "      <button class=\"colab-df-convert\" onclick=\"convertToInteractive('df-1cbbbd43-c8e8-4dca-8f0d-5b87cd46cb21')\"\n",
              "              title=\"Convert this dataframe to an interactive table.\"\n",
              "              style=\"display:none;\">\n",
              "        \n",
              "  <svg xmlns=\"http://www.w3.org/2000/svg\" height=\"24px\"viewBox=\"0 0 24 24\"\n",
              "       width=\"24px\">\n",
              "    <path d=\"M0 0h24v24H0V0z\" fill=\"none\"/>\n",
              "    <path d=\"M18.56 5.44l.94 2.06.94-2.06 2.06-.94-2.06-.94-.94-2.06-.94 2.06-2.06.94zm-11 1L8.5 8.5l.94-2.06 2.06-.94-2.06-.94L8.5 2.5l-.94 2.06-2.06.94zm10 10l.94 2.06.94-2.06 2.06-.94-2.06-.94-.94-2.06-.94 2.06-2.06.94z\"/><path d=\"M17.41 7.96l-1.37-1.37c-.4-.4-.92-.59-1.43-.59-.52 0-1.04.2-1.43.59L10.3 9.45l-7.72 7.72c-.78.78-.78 2.05 0 2.83L4 21.41c.39.39.9.59 1.41.59.51 0 1.02-.2 1.41-.59l7.78-7.78 2.81-2.81c.8-.78.8-2.07 0-2.86zM5.41 20L4 18.59l7.72-7.72 1.47 1.35L5.41 20z\"/>\n",
              "  </svg>\n",
              "      </button>\n",
              "      \n",
              "  <style>\n",
              "    .colab-df-container {\n",
              "      display:flex;\n",
              "      flex-wrap:wrap;\n",
              "      gap: 12px;\n",
              "    }\n",
              "\n",
              "    .colab-df-convert {\n",
              "      background-color: #E8F0FE;\n",
              "      border: none;\n",
              "      border-radius: 50%;\n",
              "      cursor: pointer;\n",
              "      display: none;\n",
              "      fill: #1967D2;\n",
              "      height: 32px;\n",
              "      padding: 0 0 0 0;\n",
              "      width: 32px;\n",
              "    }\n",
              "\n",
              "    .colab-df-convert:hover {\n",
              "      background-color: #E2EBFA;\n",
              "      box-shadow: 0px 1px 2px rgba(60, 64, 67, 0.3), 0px 1px 3px 1px rgba(60, 64, 67, 0.15);\n",
              "      fill: #174EA6;\n",
              "    }\n",
              "\n",
              "    [theme=dark] .colab-df-convert {\n",
              "      background-color: #3B4455;\n",
              "      fill: #D2E3FC;\n",
              "    }\n",
              "\n",
              "    [theme=dark] .colab-df-convert:hover {\n",
              "      background-color: #434B5C;\n",
              "      box-shadow: 0px 1px 3px 1px rgba(0, 0, 0, 0.15);\n",
              "      filter: drop-shadow(0px 1px 2px rgba(0, 0, 0, 0.3));\n",
              "      fill: #FFFFFF;\n",
              "    }\n",
              "  </style>\n",
              "\n",
              "      <script>\n",
              "        const buttonEl =\n",
              "          document.querySelector('#df-1cbbbd43-c8e8-4dca-8f0d-5b87cd46cb21 button.colab-df-convert');\n",
              "        buttonEl.style.display =\n",
              "          google.colab.kernel.accessAllowed ? 'block' : 'none';\n",
              "\n",
              "        async function convertToInteractive(key) {\n",
              "          const element = document.querySelector('#df-1cbbbd43-c8e8-4dca-8f0d-5b87cd46cb21');\n",
              "          const dataTable =\n",
              "            await google.colab.kernel.invokeFunction('convertToInteractive',\n",
              "                                                     [key], {});\n",
              "          if (!dataTable) return;\n",
              "\n",
              "          const docLinkHtml = 'Like what you see? Visit the ' +\n",
              "            '<a target=\"_blank\" href=https://colab.research.google.com/notebooks/data_table.ipynb>data table notebook</a>'\n",
              "            + ' to learn more about interactive tables.';\n",
              "          element.innerHTML = '';\n",
              "          dataTable['output_type'] = 'display_data';\n",
              "          await google.colab.output.renderOutput(dataTable, element);\n",
              "          const docLink = document.createElement('div');\n",
              "          docLink.innerHTML = docLinkHtml;\n",
              "          element.appendChild(docLink);\n",
              "        }\n",
              "      </script>\n",
              "    </div>\n",
              "  </div>\n",
              "  "
            ]
          },
          "metadata": {},
          "execution_count": 9
        }
      ]
    },
    {
      "cell_type": "code",
      "source": [
        "y = pd.DataFrame(dataset.target, columns= ['class'])\n",
        "y.head(10)"
      ],
      "metadata": {
        "colab": {
          "base_uri": "https://localhost:8080/",
          "height": 363
        },
        "id": "FoBKTZiXBZai",
        "outputId": "1124a857-40b8-4636-ac04-4681b0a2e0fa"
      },
      "execution_count": 10,
      "outputs": [
        {
          "output_type": "execute_result",
          "data": {
            "text/plain": [
              "   class\n",
              "0      0\n",
              "1      0\n",
              "2      0\n",
              "3      0\n",
              "4      0\n",
              "5      0\n",
              "6      0\n",
              "7      0\n",
              "8      0\n",
              "9      0"
            ],
            "text/html": [
              "\n",
              "  <div id=\"df-16b39216-80cb-494c-a9b7-fd3f223124d0\">\n",
              "    <div class=\"colab-df-container\">\n",
              "      <div>\n",
              "<style scoped>\n",
              "    .dataframe tbody tr th:only-of-type {\n",
              "        vertical-align: middle;\n",
              "    }\n",
              "\n",
              "    .dataframe tbody tr th {\n",
              "        vertical-align: top;\n",
              "    }\n",
              "\n",
              "    .dataframe thead th {\n",
              "        text-align: right;\n",
              "    }\n",
              "</style>\n",
              "<table border=\"1\" class=\"dataframe\">\n",
              "  <thead>\n",
              "    <tr style=\"text-align: right;\">\n",
              "      <th></th>\n",
              "      <th>class</th>\n",
              "    </tr>\n",
              "  </thead>\n",
              "  <tbody>\n",
              "    <tr>\n",
              "      <th>0</th>\n",
              "      <td>0</td>\n",
              "    </tr>\n",
              "    <tr>\n",
              "      <th>1</th>\n",
              "      <td>0</td>\n",
              "    </tr>\n",
              "    <tr>\n",
              "      <th>2</th>\n",
              "      <td>0</td>\n",
              "    </tr>\n",
              "    <tr>\n",
              "      <th>3</th>\n",
              "      <td>0</td>\n",
              "    </tr>\n",
              "    <tr>\n",
              "      <th>4</th>\n",
              "      <td>0</td>\n",
              "    </tr>\n",
              "    <tr>\n",
              "      <th>5</th>\n",
              "      <td>0</td>\n",
              "    </tr>\n",
              "    <tr>\n",
              "      <th>6</th>\n",
              "      <td>0</td>\n",
              "    </tr>\n",
              "    <tr>\n",
              "      <th>7</th>\n",
              "      <td>0</td>\n",
              "    </tr>\n",
              "    <tr>\n",
              "      <th>8</th>\n",
              "      <td>0</td>\n",
              "    </tr>\n",
              "    <tr>\n",
              "      <th>9</th>\n",
              "      <td>0</td>\n",
              "    </tr>\n",
              "  </tbody>\n",
              "</table>\n",
              "</div>\n",
              "      <button class=\"colab-df-convert\" onclick=\"convertToInteractive('df-16b39216-80cb-494c-a9b7-fd3f223124d0')\"\n",
              "              title=\"Convert this dataframe to an interactive table.\"\n",
              "              style=\"display:none;\">\n",
              "        \n",
              "  <svg xmlns=\"http://www.w3.org/2000/svg\" height=\"24px\"viewBox=\"0 0 24 24\"\n",
              "       width=\"24px\">\n",
              "    <path d=\"M0 0h24v24H0V0z\" fill=\"none\"/>\n",
              "    <path d=\"M18.56 5.44l.94 2.06.94-2.06 2.06-.94-2.06-.94-.94-2.06-.94 2.06-2.06.94zm-11 1L8.5 8.5l.94-2.06 2.06-.94-2.06-.94L8.5 2.5l-.94 2.06-2.06.94zm10 10l.94 2.06.94-2.06 2.06-.94-2.06-.94-.94-2.06-.94 2.06-2.06.94z\"/><path d=\"M17.41 7.96l-1.37-1.37c-.4-.4-.92-.59-1.43-.59-.52 0-1.04.2-1.43.59L10.3 9.45l-7.72 7.72c-.78.78-.78 2.05 0 2.83L4 21.41c.39.39.9.59 1.41.59.51 0 1.02-.2 1.41-.59l7.78-7.78 2.81-2.81c.8-.78.8-2.07 0-2.86zM5.41 20L4 18.59l7.72-7.72 1.47 1.35L5.41 20z\"/>\n",
              "  </svg>\n",
              "      </button>\n",
              "      \n",
              "  <style>\n",
              "    .colab-df-container {\n",
              "      display:flex;\n",
              "      flex-wrap:wrap;\n",
              "      gap: 12px;\n",
              "    }\n",
              "\n",
              "    .colab-df-convert {\n",
              "      background-color: #E8F0FE;\n",
              "      border: none;\n",
              "      border-radius: 50%;\n",
              "      cursor: pointer;\n",
              "      display: none;\n",
              "      fill: #1967D2;\n",
              "      height: 32px;\n",
              "      padding: 0 0 0 0;\n",
              "      width: 32px;\n",
              "    }\n",
              "\n",
              "    .colab-df-convert:hover {\n",
              "      background-color: #E2EBFA;\n",
              "      box-shadow: 0px 1px 2px rgba(60, 64, 67, 0.3), 0px 1px 3px 1px rgba(60, 64, 67, 0.15);\n",
              "      fill: #174EA6;\n",
              "    }\n",
              "\n",
              "    [theme=dark] .colab-df-convert {\n",
              "      background-color: #3B4455;\n",
              "      fill: #D2E3FC;\n",
              "    }\n",
              "\n",
              "    [theme=dark] .colab-df-convert:hover {\n",
              "      background-color: #434B5C;\n",
              "      box-shadow: 0px 1px 3px 1px rgba(0, 0, 0, 0.15);\n",
              "      filter: drop-shadow(0px 1px 2px rgba(0, 0, 0, 0.3));\n",
              "      fill: #FFFFFF;\n",
              "    }\n",
              "  </style>\n",
              "\n",
              "      <script>\n",
              "        const buttonEl =\n",
              "          document.querySelector('#df-16b39216-80cb-494c-a9b7-fd3f223124d0 button.colab-df-convert');\n",
              "        buttonEl.style.display =\n",
              "          google.colab.kernel.accessAllowed ? 'block' : 'none';\n",
              "\n",
              "        async function convertToInteractive(key) {\n",
              "          const element = document.querySelector('#df-16b39216-80cb-494c-a9b7-fd3f223124d0');\n",
              "          const dataTable =\n",
              "            await google.colab.kernel.invokeFunction('convertToInteractive',\n",
              "                                                     [key], {});\n",
              "          if (!dataTable) return;\n",
              "\n",
              "          const docLinkHtml = 'Like what you see? Visit the ' +\n",
              "            '<a target=\"_blank\" href=https://colab.research.google.com/notebooks/data_table.ipynb>data table notebook</a>'\n",
              "            + ' to learn more about interactive tables.';\n",
              "          element.innerHTML = '';\n",
              "          dataTable['output_type'] = 'display_data';\n",
              "          await google.colab.output.renderOutput(dataTable, element);\n",
              "          const docLink = document.createElement('div');\n",
              "          docLink.innerHTML = docLinkHtml;\n",
              "          element.appendChild(docLink);\n",
              "        }\n",
              "      </script>\n",
              "    </div>\n",
              "  </div>\n",
              "  "
            ]
          },
          "metadata": {},
          "execution_count": 10
        }
      ]
    },
    {
      "cell_type": "code",
      "source": [
        "y['class'].unique()"
      ],
      "metadata": {
        "colab": {
          "base_uri": "https://localhost:8080/"
        },
        "id": "0Onec45qCBXn",
        "outputId": "b4c282f7-8d63-4eff-b6d7-ae3acb8e63a1"
      },
      "execution_count": 11,
      "outputs": [
        {
          "output_type": "execute_result",
          "data": {
            "text/plain": [
              "array([0, 1, 2])"
            ]
          },
          "metadata": {},
          "execution_count": 11
        }
      ]
    },
    {
      "cell_type": "code",
      "source": [
        "X = X[['alcohol',\n",
        " 'malic_acid',\n",
        " 'ash',\n",
        " 'alcalinity_of_ash']]"
      ],
      "metadata": {
        "id": "m9kSx0MoHJQB"
      },
      "execution_count": 12,
      "outputs": []
    },
    {
      "cell_type": "code",
      "source": [
        "X_train, X_test, y_train, y_test = model_selection.train_test_split(X, y, test_size=0.3)"
      ],
      "metadata": {
        "id": "0Izb28Y_8pfC"
      },
      "execution_count": 13,
      "outputs": []
    },
    {
      "cell_type": "code",
      "source": [
        "model = DecisionTreeClassifier()\n",
        "model.fit(X_train, y_train)\n",
        "y_pred = model.predict(X_test)\n",
        "    "
      ],
      "metadata": {
        "id": "QiXkI1lF3rDs"
      },
      "execution_count": 14,
      "outputs": []
    },
    {
      "cell_type": "code",
      "source": [
        "print(classification_report(y_test, y_pred))"
      ],
      "metadata": {
        "colab": {
          "base_uri": "https://localhost:8080/"
        },
        "id": "vCBRr6-N4dSg",
        "outputId": "05d81662-f1b5-494b-869e-128c28ad0def"
      },
      "execution_count": 16,
      "outputs": [
        {
          "output_type": "stream",
          "name": "stdout",
          "text": [
            "              precision    recall  f1-score   support\n",
            "\n",
            "           0       0.95      0.84      0.89        25\n",
            "           1       0.93      0.65      0.76        20\n",
            "           2       0.39      0.78      0.52         9\n",
            "\n",
            "    accuracy                           0.76        54\n",
            "   macro avg       0.76      0.76      0.73        54\n",
            "weighted avg       0.85      0.76      0.78        54\n",
            "\n"
          ]
        }
      ]
    },
    {
      "cell_type": "code",
      "source": [
        "pickle.dump(model, open('model.pkl', 'wb'))"
      ],
      "metadata": {
        "id": "soK6VNFz5uhu"
      },
      "execution_count": 17,
      "outputs": []
    },
    {
      "cell_type": "code",
      "source": [
        "pickled_model = pickle.load(open('model.pkl', 'rb'))\n",
        "pickled_model.predict(X_test)\n"
      ],
      "metadata": {
        "colab": {
          "base_uri": "https://localhost:8080/"
        },
        "id": "WCvq2E-I5z0F",
        "outputId": "d32983f4-8800-4eb6-a1eb-ff48eb699971"
      },
      "execution_count": 18,
      "outputs": [
        {
          "output_type": "execute_result",
          "data": {
            "text/plain": [
              "array([1, 1, 2, 2, 2, 1, 1, 1, 2, 1, 0, 0, 2, 0, 1, 2, 0, 0, 1, 0, 0, 2,\n",
              "       0, 0, 2, 1, 2, 0, 0, 2, 1, 1, 0, 0, 0, 2, 2, 1, 1, 0, 2, 1, 0, 0,\n",
              "       2, 2, 2, 0, 0, 2, 2, 0, 0, 0])"
            ]
          },
          "metadata": {},
          "execution_count": 18
        }
      ]
    },
    {
      "cell_type": "code",
      "source": [
        "filename = \"Completed_model.joblib\"\n",
        "joblib.dump(model, filename)"
      ],
      "metadata": {
        "colab": {
          "base_uri": "https://localhost:8080/"
        },
        "id": "9fsCN31x3weL",
        "outputId": "47686fe9-03bd-4560-da8b-8db5d1d2fb59"
      },
      "execution_count": 96,
      "outputs": [
        {
          "output_type": "execute_result",
          "data": {
            "text/plain": [
              "['Completed_model.joblib']"
            ]
          },
          "metadata": {},
          "execution_count": 96
        }
      ]
    },
    {
      "cell_type": "code",
      "source": [
        "loaded_model = joblib.load(filename)\n",
        "result = loaded_model.predict(X_test)\n",
        "print(result)"
      ],
      "metadata": {
        "colab": {
          "base_uri": "https://localhost:8080/"
        },
        "id": "S4sU4azp4nMU",
        "outputId": "5a742c4d-01a6-474f-eac9-a80e22b14cde"
      },
      "execution_count": 97,
      "outputs": [
        {
          "output_type": "stream",
          "name": "stdout",
          "text": [
            "[2 2 0 0 1 2 2 1 2 2 2 1 2 0 1 2 1 2 1 2 0 0 2 0 1 1 0 0 1 2 1 2 2 1 2 2 1\n",
            " 0 2 1 1 2 0 1 1 2 0 0 0 0 0 1 1 0]\n"
          ]
        }
      ]
    },
    {
      "cell_type": "code",
      "source": [
        "loaded_model = joblib.load(filename)\n",
        "result = loaded_model.score(X_test, y_test)\n",
        "print(result)"
      ],
      "metadata": {
        "colab": {
          "base_uri": "https://localhost:8080/"
        },
        "id": "MUriTj0p5F9M",
        "outputId": "a2286e97-df3b-4b38-a456-dd35b6acf998"
      },
      "execution_count": 98,
      "outputs": [
        {
          "output_type": "stream",
          "name": "stdout",
          "text": [
            "0.7407407407407407\n"
          ]
        }
      ]
    },
    {
      "cell_type": "code",
      "source": [
        "class Features(BaseModel):\n",
        "    alcohol: float \n",
        "    malic_acid: float \n",
        "    ash: float  \n",
        "    alcalinity_of_ash: float\n"
      ],
      "metadata": {
        "id": "YuCBUJ0xJVkH"
      },
      "execution_count": 19,
      "outputs": []
    },
    {
      "cell_type": "code",
      "source": [
        "app = FastAPI()\n",
        "\n",
        "@app.get('/info')\n",
        "async def home():\n",
        "  return {\n",
        "      \"Info\": 'This api returns the class of the wine-quality dataset'\n",
        "      }\n",
        "\n",
        "@app.post(\"/predict/\")\n",
        "async def predict_salary(features: Features):\n",
        "    features = features.dict()\n",
        "    alcohol = features['alcohol']\n",
        "    malic_acid = features['malic_acid']\n",
        "    ash = features['ash']\n",
        "    alcalinity_of_ash = features['alcalinity_of_ash'] \n",
        "\n",
        "    prediction = pickled_model.predict(np.array([[alcohol,malic_acid,ash,alcalinity_of_ash]]))\n",
        "   \n",
        "    \n",
        "    return {\"Class\": prediction.tolist() }\n"
      ],
      "metadata": {
        "id": "mlClTzvJHfcg"
      },
      "execution_count": 20,
      "outputs": []
    },
    {
      "cell_type": "code",
      "source": [
        "ngrok_tunnel = ngrok.connect(8000)\n",
        "print('Public URL:', ngrok_tunnel.public_url)\n",
        "nest_asyncio.apply()\n",
        "uvicorn.run(app, port=8000)"
      ],
      "metadata": {
        "id": "uUPKyToGHxZi"
      },
      "execution_count": null,
      "outputs": []
    },
    {
      "cell_type": "markdown",
      "source": [
        "### Some API Call Examples"
      ],
      "metadata": {
        "id": "GsjtVUPDkDc8"
      }
    },
    {
      "cell_type": "markdown",
      "source": [
        "![image.png](data:image/png;base64,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)"
      ],
      "metadata": {
        "id": "dKp9HpdpkN4T"
      }
    },
    {
      "cell_type": "markdown",
      "source": [
        "![image.png](data:image/png;base64,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)"
      ],
      "metadata": {
        "id": "dfuYRsqVj5Av"
      }
    }
  ]
}